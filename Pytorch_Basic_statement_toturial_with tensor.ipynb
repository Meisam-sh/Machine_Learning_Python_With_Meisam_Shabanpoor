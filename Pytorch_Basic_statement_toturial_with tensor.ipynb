{
  "nbformat": 4,
  "nbformat_minor": 0,
  "metadata": {
    "colab": {
      "provenance": [],
      "gpuType": "T4",
      "authorship_tag": "ABX9TyOjkt1f151MD8GNv0FAXpSk",
      "include_colab_link": true
    },
    "kernelspec": {
      "name": "python3",
      "display_name": "Python 3"
    },
    "language_info": {
      "name": "python"
    },
    "accelerator": "GPU"
  },
  "cells": [
    {
      "cell_type": "markdown",
      "metadata": {
        "id": "view-in-github",
        "colab_type": "text"
      },
      "source": [
        "<a href=\"https://colab.research.google.com/github/Meisam-sh/Machine_Learning_Python_With_Meisam_Shabanpoor/blob/main/Pytorch_Basic_statement_toturial_with%20tensor.ipynb\" target=\"_parent\"><img src=\"https://colab.research.google.com/assets/colab-badge.svg\" alt=\"Open In Colab\"/></a>"
      ]
    },
    {
      "cell_type": "code",
      "source": [
        "import torch\n",
        "import torch.nn as nn\n",
        "import numpy as np"
      ],
      "metadata": {
        "id": "WSbfuoQmV3ki"
      },
      "execution_count": 2,
      "outputs": []
    },
    {
      "cell_type": "code",
      "execution_count": 3,
      "metadata": {
        "id": "QZRPs934ViYb"
      },
      "outputs": [],
      "source": [
        "data=[[1,2],[3,5]]"
      ]
    },
    {
      "cell_type": "code",
      "source": [
        "#convert data to tensor\n",
        "tensor_data=torch.tensor(data)"
      ],
      "metadata": {
        "id": "d0fhaVi3Wzu1"
      },
      "execution_count": 4,
      "outputs": []
    },
    {
      "cell_type": "code",
      "source": [
        "#it has a structure a lilte like numpy#\n",
        "tensor_data"
      ],
      "metadata": {
        "colab": {
          "base_uri": "https://localhost:8080/"
        },
        "id": "t9rwwPJwaNI7",
        "outputId": "11f82ac8-fb79-4fbd-b402-416da6fa53e8"
      },
      "execution_count": 5,
      "outputs": [
        {
          "output_type": "execute_result",
          "data": {
            "text/plain": [
              "tensor([[1, 2],\n",
              "        [3, 5]])"
            ]
          },
          "metadata": {},
          "execution_count": 5
        }
      ]
    },
    {
      "cell_type": "code",
      "source": [
        "# Make Zero array by torch.zeros based on shape variable\n",
        "shape=(5,4)\n",
        "torch.zeros(shape)"
      ],
      "metadata": {
        "colab": {
          "base_uri": "https://localhost:8080/"
        },
        "id": "IuUe5j2Ya4O4",
        "outputId": "c2055c37-5321-4a0e-87c8-27be07778727"
      },
      "execution_count": 6,
      "outputs": [
        {
          "output_type": "execute_result",
          "data": {
            "text/plain": [
              "tensor([[0., 0., 0., 0.],\n",
              "        [0., 0., 0., 0.],\n",
              "        [0., 0., 0., 0.],\n",
              "        [0., 0., 0., 0.],\n",
              "        [0., 0., 0., 0.]])"
            ]
          },
          "metadata": {},
          "execution_count": 6
        }
      ]
    },
    {
      "cell_type": "code",
      "source": [
        "# make an array based on shpae with torch.rand\n",
        "tensor_rand=torch.rand(shape)\n",
        "tensor_rand"
      ],
      "metadata": {
        "colab": {
          "base_uri": "https://localhost:8080/"
        },
        "id": "xVLRKbnbcRaQ",
        "outputId": "9969dceb-a915-453e-e602-5c1009514762"
      },
      "execution_count": 7,
      "outputs": [
        {
          "output_type": "execute_result",
          "data": {
            "text/plain": [
              "tensor([[0.7652, 0.7463, 0.1751, 0.3495],\n",
              "        [0.3007, 0.0971, 0.5991, 0.3451],\n",
              "        [0.2041, 0.1948, 0.4833, 0.7796],\n",
              "        [0.2581, 0.0627, 0.2907, 0.4017],\n",
              "        [0.5234, 0.5943, 0.3536, 0.8036]])"
            ]
          },
          "metadata": {},
          "execution_count": 7
        }
      ]
    },
    {
      "cell_type": "code",
      "source": [
        "#consider to the range that every function causes.\n",
        "tensor_randn=torch.randn(shape)\n",
        "tensor_randn"
      ],
      "metadata": {
        "colab": {
          "base_uri": "https://localhost:8080/"
        },
        "id": "KjJEsQmzdD4f",
        "outputId": "5036969d-08cf-4e02-b70b-2e0f517a332e"
      },
      "execution_count": 8,
      "outputs": [
        {
          "output_type": "execute_result",
          "data": {
            "text/plain": [
              "tensor([[-1.1145,  1.5364,  0.6046, -0.1255],\n",
              "        [-1.4859,  0.8296, -0.0585,  0.5709],\n",
              "        [ 0.4175,  0.7228,  0.9797, -1.8710],\n",
              "        [ 0.9842, -0.4694, -0.7293,  0.5308],\n",
              "        [-1.2002, -1.4262,  0.5498, -1.4780]])"
            ]
          },
          "metadata": {},
          "execution_count": 8
        }
      ]
    },
    {
      "cell_type": "code",
      "source": [
        "print(f'tensor_randn type is: {tensor_randn.dtype}')\n",
        "print(f'tensor_rand type is : {tensor_rand.dtype}')\n",
        "print(f'tensor_data type is : {tensor_data.dtype}')"
      ],
      "metadata": {
        "colab": {
          "base_uri": "https://localhost:8080/"
        },
        "id": "5SxUYnePdpl0",
        "outputId": "5b722593-22ac-4b27-e5bb-d84af5e5c03a"
      },
      "execution_count": 9,
      "outputs": [
        {
          "output_type": "stream",
          "name": "stdout",
          "text": [
            "tensor_randn type is: torch.float32\n",
            "tensor_rand type is : torch.float32\n",
            "tensor_data type is : torch.int64\n"
          ]
        }
      ]
    },
    {
      "cell_type": "code",
      "source": [
        "tensor_rand.shape"
      ],
      "metadata": {
        "colab": {
          "base_uri": "https://localhost:8080/"
        },
        "id": "hZZnmKmNfbsA",
        "outputId": "e6bb869c-9938-4478-b804-413359fbb403"
      },
      "execution_count": 10,
      "outputs": [
        {
          "output_type": "execute_result",
          "data": {
            "text/plain": [
              "torch.Size([5, 4])"
            ]
          },
          "metadata": {},
          "execution_count": 10
        }
      ]
    },
    {
      "cell_type": "code",
      "source": [
        "tensor_data.device"
      ],
      "metadata": {
        "colab": {
          "base_uri": "https://localhost:8080/"
        },
        "id": "shSiGDNofhzk",
        "outputId": "6e572021-100b-4a4b-afdf-f5ddfea18c9b"
      },
      "execution_count": 11,
      "outputs": [
        {
          "output_type": "execute_result",
          "data": {
            "text/plain": [
              "device(type='cpu')"
            ]
          },
          "metadata": {},
          "execution_count": 11
        }
      ]
    },
    {
      "cell_type": "code",
      "source": [
        "tensor_data=tensor_data.to(\"cuda\")"
      ],
      "metadata": {
        "colab": {
          "base_uri": "https://localhost:8080/",
          "height": 280
        },
        "id": "ofcLXyC3fyXX",
        "outputId": "5a1fa9d6-67de-4cf5-9f28-3e47e4c9e637"
      },
      "execution_count": 38,
      "outputs": [
        {
          "output_type": "error",
          "ename": "RuntimeError",
          "evalue": "Found no NVIDIA driver on your system. Please check that you have an NVIDIA GPU and installed a driver from http://www.nvidia.com/Download/index.aspx",
          "traceback": [
            "\u001b[0;31m---------------------------------------------------------------------------\u001b[0m",
            "\u001b[0;31mRuntimeError\u001b[0m                              Traceback (most recent call last)",
            "\u001b[0;32m<ipython-input-38-dd148f014000>\u001b[0m in \u001b[0;36m<cell line: 1>\u001b[0;34m()\u001b[0m\n\u001b[0;32m----> 1\u001b[0;31m \u001b[0mtensor_data\u001b[0m\u001b[0;34m=\u001b[0m\u001b[0mtensor_data\u001b[0m\u001b[0;34m.\u001b[0m\u001b[0mto\u001b[0m\u001b[0;34m(\u001b[0m\u001b[0;34m\"cuda\"\u001b[0m\u001b[0;34m)\u001b[0m\u001b[0;34m\u001b[0m\u001b[0;34m\u001b[0m\u001b[0m\n\u001b[0m",
            "\u001b[0;32m/usr/local/lib/python3.10/dist-packages/torch/cuda/__init__.py\u001b[0m in \u001b[0;36m_lazy_init\u001b[0;34m()\u001b[0m\n\u001b[1;32m    312\u001b[0m         \u001b[0;32mif\u001b[0m \u001b[0;34m\"CUDA_MODULE_LOADING\"\u001b[0m \u001b[0;32mnot\u001b[0m \u001b[0;32min\u001b[0m \u001b[0mos\u001b[0m\u001b[0;34m.\u001b[0m\u001b[0menviron\u001b[0m\u001b[0;34m:\u001b[0m\u001b[0;34m\u001b[0m\u001b[0;34m\u001b[0m\u001b[0m\n\u001b[1;32m    313\u001b[0m             \u001b[0mos\u001b[0m\u001b[0;34m.\u001b[0m\u001b[0menviron\u001b[0m\u001b[0;34m[\u001b[0m\u001b[0;34m\"CUDA_MODULE_LOADING\"\u001b[0m\u001b[0;34m]\u001b[0m \u001b[0;34m=\u001b[0m \u001b[0;34m\"LAZY\"\u001b[0m\u001b[0;34m\u001b[0m\u001b[0;34m\u001b[0m\u001b[0m\n\u001b[0;32m--> 314\u001b[0;31m         \u001b[0mtorch\u001b[0m\u001b[0;34m.\u001b[0m\u001b[0m_C\u001b[0m\u001b[0;34m.\u001b[0m\u001b[0m_cuda_init\u001b[0m\u001b[0;34m(\u001b[0m\u001b[0;34m)\u001b[0m\u001b[0;34m\u001b[0m\u001b[0;34m\u001b[0m\u001b[0m\n\u001b[0m\u001b[1;32m    315\u001b[0m         \u001b[0;31m# Some of the queued calls may reentrantly call _lazy_init();\u001b[0m\u001b[0;34m\u001b[0m\u001b[0;34m\u001b[0m\u001b[0m\n\u001b[1;32m    316\u001b[0m         \u001b[0;31m# we need to just return without initializing in that case.\u001b[0m\u001b[0;34m\u001b[0m\u001b[0;34m\u001b[0m\u001b[0m\n",
            "\u001b[0;31mRuntimeError\u001b[0m: Found no NVIDIA driver on your system. Please check that you have an NVIDIA GPU and installed a driver from http://www.nvidia.com/Download/index.aspx"
          ]
        }
      ]
    },
    {
      "cell_type": "code",
      "source": [
        "# Before this script I change the setting of Ram on Google Colab and then :\n",
        "tensor_data=tensor_data.to(\"cuda\")"
      ],
      "metadata": {
        "id": "lhLZj2HMwMCJ"
      },
      "execution_count": 12,
      "outputs": []
    },
    {
      "cell_type": "code",
      "source": [
        "tensor_data.device"
      ],
      "metadata": {
        "colab": {
          "base_uri": "https://localhost:8080/"
        },
        "id": "IpX0ydoxwirf",
        "outputId": "cad85df1-a598-49a3-8dd2-c1bb6b689c7a"
      },
      "execution_count": 13,
      "outputs": [
        {
          "output_type": "execute_result",
          "data": {
            "text/plain": [
              "device(type='cuda', index=0)"
            ]
          },
          "metadata": {},
          "execution_count": 13
        }
      ]
    },
    {
      "cell_type": "code",
      "source": [
        "tensor_one=torch.ones(shape)"
      ],
      "metadata": {
        "id": "4X1c9OZhgqpn"
      },
      "execution_count": 11,
      "outputs": []
    },
    {
      "cell_type": "code",
      "source": [
        "tensor_one"
      ],
      "metadata": {
        "colab": {
          "base_uri": "https://localhost:8080/"
        },
        "id": "9prt3Tkch9F3",
        "outputId": "b2201a89-5491-4693-802e-995940eceb9d"
      },
      "execution_count": 12,
      "outputs": [
        {
          "output_type": "execute_result",
          "data": {
            "text/plain": [
              "tensor([[1., 1., 1., 1.],\n",
              "        [1., 1., 1., 1.],\n",
              "        [1., 1., 1., 1.],\n",
              "        [1., 1., 1., 1.],\n",
              "        [1., 1., 1., 1.]])"
            ]
          },
          "metadata": {},
          "execution_count": 12
        }
      ]
    },
    {
      "cell_type": "code",
      "source": [
        "tensor_rand[0]"
      ],
      "metadata": {
        "colab": {
          "base_uri": "https://localhost:8080/"
        },
        "id": "3X6uwCHZi6uZ",
        "outputId": "2873bcfc-a1d2-4b57-a6bc-846af27daaf4"
      },
      "execution_count": 13,
      "outputs": [
        {
          "output_type": "execute_result",
          "data": {
            "text/plain": [
              "tensor([0.7652, 0.7463, 0.1751, 0.3495])"
            ]
          },
          "metadata": {},
          "execution_count": 13
        }
      ]
    },
    {
      "cell_type": "code",
      "source": [
        "tensor_one[3][3]"
      ],
      "metadata": {
        "colab": {
          "base_uri": "https://localhost:8080/"
        },
        "id": "vUQ6qC4yjNh5",
        "outputId": "2027b284-e92a-410f-d23a-bbead6e0380b"
      },
      "execution_count": 14,
      "outputs": [
        {
          "output_type": "execute_result",
          "data": {
            "text/plain": [
              "tensor(1.)"
            ]
          },
          "metadata": {},
          "execution_count": 14
        }
      ]
    },
    {
      "cell_type": "code",
      "source": [
        "#tensor's Index starts with 0\n",
        "tensor_randn[3,2]=19\n",
        "tensor_randn"
      ],
      "metadata": {
        "colab": {
          "base_uri": "https://localhost:8080/"
        },
        "id": "fNx9s-ggjcuH",
        "outputId": "01c5ecfd-003d-4469-d15e-b1a256ab7847"
      },
      "execution_count": 20,
      "outputs": [
        {
          "output_type": "execute_result",
          "data": {
            "text/plain": [
              "tensor([[-1.1145,  1.5364,  0.6046, -0.1255],\n",
              "        [-1.4859,  0.8296, -0.0585,  0.5709],\n",
              "        [ 0.4175,  0.7228,  0.9797, -1.8710],\n",
              "        [ 0.9842, -0.4694, 19.0000,  0.5308],\n",
              "        [-1.2002, -1.4262,  0.5498, -1.4780]])"
            ]
          },
          "metadata": {},
          "execution_count": 20
        }
      ]
    },
    {
      "cell_type": "code",
      "source": [
        "tensor_one[...,1]=23\n",
        "tensor_one[...,3]=19\n",
        "tensor_one"
      ],
      "metadata": {
        "colab": {
          "base_uri": "https://localhost:8080/"
        },
        "id": "7DolWjTmkyXc",
        "outputId": "f569d67b-b5f1-462a-a269-28826057543a"
      },
      "execution_count": 22,
      "outputs": [
        {
          "output_type": "execute_result",
          "data": {
            "text/plain": [
              "tensor([[ 1., 23.,  1., 19.],\n",
              "        [ 1., 23.,  1., 19.],\n",
              "        [ 1., 23.,  1., 19.],\n",
              "        [ 1., 23.,  1., 19.],\n",
              "        [ 1., 23.,  1., 19.]])"
            ]
          },
          "metadata": {},
          "execution_count": 22
        }
      ]
    },
    {
      "cell_type": "code",
      "source": [
        "#tenso.T means transpose of tensor\n",
        "# @ is used insted of * for multiply 2 matrixes\n",
        "T_tensor_one=tensor_one@tensor_one.T\n",
        "T_tensor_one"
      ],
      "metadata": {
        "colab": {
          "base_uri": "https://localhost:8080/"
        },
        "id": "OcUzhQinlmxW",
        "outputId": "3abab125-3423-4ec9-884d-d056fd7be69b"
      },
      "execution_count": 24,
      "outputs": [
        {
          "output_type": "execute_result",
          "data": {
            "text/plain": [
              "tensor([[892., 892., 892., 892., 892.],\n",
              "        [892., 892., 892., 892., 892.],\n",
              "        [892., 892., 892., 892., 892.],\n",
              "        [892., 892., 892., 892., 892.],\n",
              "        [892., 892., 892., 892., 892.]])"
            ]
          },
          "metadata": {},
          "execution_count": 24
        }
      ]
    },
    {
      "cell_type": "code",
      "source": [
        "#Item y item multiply of to matrixes with *\n",
        "m_matrix=tensor_one*tensor_one\n",
        "m_matrix"
      ],
      "metadata": {
        "colab": {
          "base_uri": "https://localhost:8080/"
        },
        "id": "dzOJeGGmmmCe",
        "outputId": "01ffda75-d907-4be9-f843-801d543214ac"
      },
      "execution_count": 27,
      "outputs": [
        {
          "output_type": "execute_result",
          "data": {
            "text/plain": [
              "tensor([[  1., 529.,   1., 361.],\n",
              "        [  1., 529.,   1., 361.],\n",
              "        [  1., 529.,   1., 361.],\n",
              "        [  1., 529.,   1., 361.],\n",
              "        [  1., 529.,   1., 361.]])"
            ]
          },
          "metadata": {},
          "execution_count": 27
        }
      ]
    }
  ]
}