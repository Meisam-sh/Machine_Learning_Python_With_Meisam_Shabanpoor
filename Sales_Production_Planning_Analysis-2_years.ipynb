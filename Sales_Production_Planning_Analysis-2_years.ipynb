{
 "cells": [
  {
   "cell_type": "markdown",
   "id": "4d01a90c-8d4a-47a1-bf6a-72d0579baf62",
   "metadata": {},
   "source": [
    "# Sales and Production planning analysis for GOLHA CO in year 1401,1402 (2023-2024)"
   ]
  },
  {
   "cell_type": "code",
   "execution_count": 1,
   "id": "7f06680b-e802-4a25-a136-1279087e4acd",
   "metadata": {},
   "outputs": [],
   "source": [
    "import numpy as np\n",
    "import pandas as pd\n",
    "import matplotlib.pyplot as plt\n",
    "import pylab as pl\n",
    "%matplotlib inline\n",
    "from sklearn.preprocessing import PolynomialFeatures\n",
    "from sklearn import linear_model"
   ]
  },
  {
   "cell_type": "code",
   "execution_count": 2,
   "id": "6722f256-cac2-4cd5-b207-632345bc0256",
   "metadata": {},
   "outputs": [],
   "source": [
    "Analysis_df=pd.read_excel('2_years_sales_production_2.xlsx')"
   ]
  },
  {
   "cell_type": "code",
   "execution_count": 3,
   "id": "ff324f5e-7519-4fbe-8a91-b96bb0b57baf",
   "metadata": {
    "scrolled": true
   },
   "outputs": [
    {
     "data": {
      "text/html": [
       "<div>\n",
       "<style scoped>\n",
       "    .dataframe tbody tr th:only-of-type {\n",
       "        vertical-align: middle;\n",
       "    }\n",
       "\n",
       "    .dataframe tbody tr th {\n",
       "        vertical-align: top;\n",
       "    }\n",
       "\n",
       "    .dataframe thead th {\n",
       "        text-align: right;\n",
       "    }\n",
       "</style>\n",
       "<table border=\"1\" class=\"dataframe\">\n",
       "  <thead>\n",
       "    <tr style=\"text-align: right;\">\n",
       "      <th></th>\n",
       "      <th>productcode</th>\n",
       "      <th>ProductName</th>\n",
       "      <th>Production</th>\n",
       "      <th>Production_Predict</th>\n",
       "      <th>Sale</th>\n",
       "      <th>Year_month</th>\n",
       "      <th>year</th>\n",
       "      <th>month</th>\n",
       "    </tr>\n",
       "  </thead>\n",
       "  <tbody>\n",
       "    <tr>\n",
       "      <th>0</th>\n",
       "      <td>22010001</td>\n",
       "      <td>ادویه پلوئی - (سلفون) - بسته نیم کیلویی</td>\n",
       "      <td>21.0</td>\n",
       "      <td>14.4</td>\n",
       "      <td>12.0</td>\n",
       "      <td>1401/05</td>\n",
       "      <td>1401</td>\n",
       "      <td>5</td>\n",
       "    </tr>\n",
       "    <tr>\n",
       "      <th>1</th>\n",
       "      <td>22010001</td>\n",
       "      <td>ادویه پلوئی - (سلفون) - بسته نیم کیلویی</td>\n",
       "      <td>1.0</td>\n",
       "      <td>1.2</td>\n",
       "      <td>1.0</td>\n",
       "      <td>1401/06</td>\n",
       "      <td>1401</td>\n",
       "      <td>6</td>\n",
       "    </tr>\n",
       "    <tr>\n",
       "      <th>2</th>\n",
       "      <td>22010001</td>\n",
       "      <td>ادویه پلوئی - (سلفون) - بسته نیم کیلویی</td>\n",
       "      <td>4.0</td>\n",
       "      <td>3.6</td>\n",
       "      <td>3.0</td>\n",
       "      <td>1401/07</td>\n",
       "      <td>1401</td>\n",
       "      <td>7</td>\n",
       "    </tr>\n",
       "    <tr>\n",
       "      <th>3</th>\n",
       "      <td>22010001</td>\n",
       "      <td>ادویه پلوئی - (سلفون) - بسته نیم کیلویی</td>\n",
       "      <td>12.0</td>\n",
       "      <td>14.4</td>\n",
       "      <td>12.0</td>\n",
       "      <td>1401/08</td>\n",
       "      <td>1401</td>\n",
       "      <td>8</td>\n",
       "    </tr>\n",
       "    <tr>\n",
       "      <th>4</th>\n",
       "      <td>22010001</td>\n",
       "      <td>ادویه پلوئی - (سلفون) - بسته نیم کیلویی</td>\n",
       "      <td>10.0</td>\n",
       "      <td>12.0</td>\n",
       "      <td>10.0</td>\n",
       "      <td>1401/09</td>\n",
       "      <td>1401</td>\n",
       "      <td>9</td>\n",
       "    </tr>\n",
       "  </tbody>\n",
       "</table>\n",
       "</div>"
      ],
      "text/plain": [
       "   productcode                              ProductName  Production  \\\n",
       "0     22010001  ادویه پلوئی - (سلفون) - بسته نیم کیلویی        21.0   \n",
       "1     22010001  ادویه پلوئی - (سلفون) - بسته نیم کیلویی         1.0   \n",
       "2     22010001  ادویه پلوئی - (سلفون) - بسته نیم کیلویی         4.0   \n",
       "3     22010001  ادویه پلوئی - (سلفون) - بسته نیم کیلویی        12.0   \n",
       "4     22010001  ادویه پلوئی - (سلفون) - بسته نیم کیلویی        10.0   \n",
       "\n",
       "   Production_Predict  Sale Year_month  year  month  \n",
       "0                14.4  12.0    1401/05  1401      5  \n",
       "1                 1.2   1.0    1401/06  1401      6  \n",
       "2                 3.6   3.0    1401/07  1401      7  \n",
       "3                14.4  12.0    1401/08  1401      8  \n",
       "4                12.0  10.0    1401/09  1401      9  "
      ]
     },
     "execution_count": 3,
     "metadata": {},
     "output_type": "execute_result"
    }
   ],
   "source": [
    "Analysis_df.head()"
   ]
  },
  {
   "cell_type": "code",
   "execution_count": 4,
   "id": "ac914199-8f5f-48c2-8a57-d0a3b76b6669",
   "metadata": {},
   "outputs": [
    {
     "data": {
      "text/plain": [
       "(12872, 8)"
      ]
     },
     "execution_count": 4,
     "metadata": {},
     "output_type": "execute_result"
    }
   ],
   "source": [
    "Analysis_df.shape"
   ]
  },
  {
   "cell_type": "code",
   "execution_count": 5,
   "id": "e5d03ad6-1e6f-44d9-91cb-a5b64c6fddd8",
   "metadata": {
    "scrolled": true
   },
   "outputs": [
    {
     "data": {
      "text/html": [
       "<div>\n",
       "<style scoped>\n",
       "    .dataframe tbody tr th:only-of-type {\n",
       "        vertical-align: middle;\n",
       "    }\n",
       "\n",
       "    .dataframe tbody tr th {\n",
       "        vertical-align: top;\n",
       "    }\n",
       "\n",
       "    .dataframe thead th {\n",
       "        text-align: right;\n",
       "    }\n",
       "</style>\n",
       "<table border=\"1\" class=\"dataframe\">\n",
       "  <thead>\n",
       "    <tr style=\"text-align: right;\">\n",
       "      <th></th>\n",
       "      <th>productcode</th>\n",
       "      <th>Production</th>\n",
       "      <th>Production_Predict</th>\n",
       "      <th>Sale</th>\n",
       "      <th>year</th>\n",
       "      <th>month</th>\n",
       "    </tr>\n",
       "  </thead>\n",
       "  <tbody>\n",
       "    <tr>\n",
       "      <th>count</th>\n",
       "      <td>1.287200e+04</td>\n",
       "      <td>1.287200e+04</td>\n",
       "      <td>1.287200e+04</td>\n",
       "      <td>1.287200e+04</td>\n",
       "      <td>12872.000000</td>\n",
       "      <td>12872.000000</td>\n",
       "    </tr>\n",
       "    <tr>\n",
       "      <th>mean</th>\n",
       "      <td>2.243801e+07</td>\n",
       "      <td>2.165115e+04</td>\n",
       "      <td>2.829552e+04</td>\n",
       "      <td>2.357593e+04</td>\n",
       "      <td>1401.515693</td>\n",
       "      <td>6.627098</td>\n",
       "    </tr>\n",
       "    <tr>\n",
       "      <th>std</th>\n",
       "      <td>4.842789e+05</td>\n",
       "      <td>3.847846e+05</td>\n",
       "      <td>4.095366e+05</td>\n",
       "      <td>3.412805e+05</td>\n",
       "      <td>0.499773</td>\n",
       "      <td>3.434822</td>\n",
       "    </tr>\n",
       "    <tr>\n",
       "      <th>min</th>\n",
       "      <td>2.201000e+07</td>\n",
       "      <td>-4.900196e+06</td>\n",
       "      <td>1.200000e+00</td>\n",
       "      <td>1.000000e+00</td>\n",
       "      <td>1401.000000</td>\n",
       "      <td>1.000000</td>\n",
       "    </tr>\n",
       "    <tr>\n",
       "      <th>25%</th>\n",
       "      <td>2.201020e+07</td>\n",
       "      <td>0.000000e+00</td>\n",
       "      <td>1.020000e+02</td>\n",
       "      <td>8.500000e+01</td>\n",
       "      <td>1401.000000</td>\n",
       "      <td>4.000000</td>\n",
       "    </tr>\n",
       "    <tr>\n",
       "      <th>50%</th>\n",
       "      <td>2.231003e+07</td>\n",
       "      <td>2.870000e+02</td>\n",
       "      <td>9.642000e+02</td>\n",
       "      <td>8.000000e+02</td>\n",
       "      <td>1402.000000</td>\n",
       "      <td>7.000000</td>\n",
       "    </tr>\n",
       "    <tr>\n",
       "      <th>75%</th>\n",
       "      <td>2.281001e+07</td>\n",
       "      <td>3.456000e+03</td>\n",
       "      <td>4.320000e+03</td>\n",
       "      <td>3.600000e+03</td>\n",
       "      <td>1402.000000</td>\n",
       "      <td>10.000000</td>\n",
       "    </tr>\n",
       "    <tr>\n",
       "      <th>max</th>\n",
       "      <td>2.371000e+07</td>\n",
       "      <td>1.646000e+07</td>\n",
       "      <td>1.659360e+07</td>\n",
       "      <td>1.382800e+07</td>\n",
       "      <td>1402.000000</td>\n",
       "      <td>12.000000</td>\n",
       "    </tr>\n",
       "  </tbody>\n",
       "</table>\n",
       "</div>"
      ],
      "text/plain": [
       "        productcode    Production  Production_Predict          Sale  \\\n",
       "count  1.287200e+04  1.287200e+04        1.287200e+04  1.287200e+04   \n",
       "mean   2.243801e+07  2.165115e+04        2.829552e+04  2.357593e+04   \n",
       "std    4.842789e+05  3.847846e+05        4.095366e+05  3.412805e+05   \n",
       "min    2.201000e+07 -4.900196e+06        1.200000e+00  1.000000e+00   \n",
       "25%    2.201020e+07  0.000000e+00        1.020000e+02  8.500000e+01   \n",
       "50%    2.231003e+07  2.870000e+02        9.642000e+02  8.000000e+02   \n",
       "75%    2.281001e+07  3.456000e+03        4.320000e+03  3.600000e+03   \n",
       "max    2.371000e+07  1.646000e+07        1.659360e+07  1.382800e+07   \n",
       "\n",
       "               year         month  \n",
       "count  12872.000000  12872.000000  \n",
       "mean    1401.515693      6.627098  \n",
       "std        0.499773      3.434822  \n",
       "min     1401.000000      1.000000  \n",
       "25%     1401.000000      4.000000  \n",
       "50%     1402.000000      7.000000  \n",
       "75%     1402.000000     10.000000  \n",
       "max     1402.000000     12.000000  "
      ]
     },
     "execution_count": 5,
     "metadata": {},
     "output_type": "execute_result"
    }
   ],
   "source": [
    "Analysis_df.describe()"
   ]
  },
  {
   "cell_type": "markdown",
   "id": "4d237744-65b9-459d-9a5f-8c82a1a25fcd",
   "metadata": {},
   "source": [
    "# Important Result:\n",
    "### As we can the std value in Production and sale are:\n",
    "- 4.349379\n",
    "- 3.856724\n",
    "### This standard derivation shows that :\n",
    "- based on Mean values for these two parameters \n",
    "(2.804085e,2.881269e) \n",
    "we see so much derivation on them and \n",
    "## it can affects our prediction"
   ]
  },
  {
   "cell_type": "code",
   "execution_count": 6,
   "id": "3e62308d-ead2-41f6-ac47-caa7e23cd60a",
   "metadata": {},
   "outputs": [
    {
     "data": {
      "text/plain": [
       "productcode             int64\n",
       "ProductName            object\n",
       "Production            float64\n",
       "Production_Predict    float64\n",
       "Sale                  float64\n",
       "Year_month             object\n",
       "year                    int64\n",
       "month                   int64\n",
       "dtype: object"
      ]
     },
     "execution_count": 6,
     "metadata": {},
     "output_type": "execute_result"
    }
   ],
   "source": [
    "Analysis_df.dtypes"
   ]
  },
  {
   "cell_type": "markdown",
   "id": "a70d5289-1b36-4286-b48d-e6d5c2423466",
   "metadata": {},
   "source": [
    "### Data cleaning"
   ]
  },
  {
   "cell_type": "code",
   "execution_count": 7,
   "id": "cb5da6c3-0f2d-44ba-b231-57be8cc82863",
   "metadata": {},
   "outputs": [],
   "source": [
    "cdf=Analysis_df.copy()"
   ]
  },
  {
   "cell_type": "code",
   "execution_count": 8,
   "id": "db27ddcf-96b4-48c1-8635-f1d4530070fe",
   "metadata": {},
   "outputs": [],
   "source": [
    "cdf=cdf.fillna(0)\n",
    "cdf['Sale'] = cdf['Sale'].astype(int)\n",
    "cdf['productcode'] = cdf['productcode'].astype(int)"
   ]
  },
  {
   "cell_type": "code",
   "execution_count": 9,
   "id": "81c8b775-82a0-4804-8fc9-48e87e56f91c",
   "metadata": {},
   "outputs": [
    {
     "data": {
      "text/plain": [
       "productcode             int32\n",
       "ProductName            object\n",
       "Production            float64\n",
       "Production_Predict    float64\n",
       "Sale                    int32\n",
       "Year_month             object\n",
       "year                    int64\n",
       "month                   int64\n",
       "dtype: object"
      ]
     },
     "execution_count": 9,
     "metadata": {},
     "output_type": "execute_result"
    }
   ],
   "source": [
    "cdf.dtypes"
   ]
  },
  {
   "cell_type": "code",
   "execution_count": 10,
   "id": "9c331944-a47c-47f4-9d25-e9c50d0d0d3d",
   "metadata": {
    "scrolled": true
   },
   "outputs": [
    {
     "data": {
      "text/html": [
       "<div>\n",
       "<style scoped>\n",
       "    .dataframe tbody tr th:only-of-type {\n",
       "        vertical-align: middle;\n",
       "    }\n",
       "\n",
       "    .dataframe tbody tr th {\n",
       "        vertical-align: top;\n",
       "    }\n",
       "\n",
       "    .dataframe thead th {\n",
       "        text-align: right;\n",
       "    }\n",
       "</style>\n",
       "<table border=\"1\" class=\"dataframe\">\n",
       "  <thead>\n",
       "    <tr style=\"text-align: right;\">\n",
       "      <th></th>\n",
       "      <th>productcode</th>\n",
       "      <th>ProductName</th>\n",
       "      <th>Production</th>\n",
       "      <th>Production_Predict</th>\n",
       "      <th>Sale</th>\n",
       "      <th>Year_month</th>\n",
       "      <th>year</th>\n",
       "      <th>month</th>\n",
       "    </tr>\n",
       "  </thead>\n",
       "  <tbody>\n",
       "    <tr>\n",
       "      <th>0</th>\n",
       "      <td>22010001</td>\n",
       "      <td>ادویه پلوئی - (سلفون) - بسته نیم کیلویی</td>\n",
       "      <td>21.0</td>\n",
       "      <td>14.4</td>\n",
       "      <td>12</td>\n",
       "      <td>1401/05</td>\n",
       "      <td>1401</td>\n",
       "      <td>5</td>\n",
       "    </tr>\n",
       "    <tr>\n",
       "      <th>1</th>\n",
       "      <td>22010001</td>\n",
       "      <td>ادویه پلوئی - (سلفون) - بسته نیم کیلویی</td>\n",
       "      <td>1.0</td>\n",
       "      <td>1.2</td>\n",
       "      <td>1</td>\n",
       "      <td>1401/06</td>\n",
       "      <td>1401</td>\n",
       "      <td>6</td>\n",
       "    </tr>\n",
       "    <tr>\n",
       "      <th>2</th>\n",
       "      <td>22010001</td>\n",
       "      <td>ادویه پلوئی - (سلفون) - بسته نیم کیلویی</td>\n",
       "      <td>4.0</td>\n",
       "      <td>3.6</td>\n",
       "      <td>3</td>\n",
       "      <td>1401/07</td>\n",
       "      <td>1401</td>\n",
       "      <td>7</td>\n",
       "    </tr>\n",
       "    <tr>\n",
       "      <th>3</th>\n",
       "      <td>22010001</td>\n",
       "      <td>ادویه پلوئی - (سلفون) - بسته نیم کیلویی</td>\n",
       "      <td>12.0</td>\n",
       "      <td>14.4</td>\n",
       "      <td>12</td>\n",
       "      <td>1401/08</td>\n",
       "      <td>1401</td>\n",
       "      <td>8</td>\n",
       "    </tr>\n",
       "    <tr>\n",
       "      <th>4</th>\n",
       "      <td>22010001</td>\n",
       "      <td>ادویه پلوئی - (سلفون) - بسته نیم کیلویی</td>\n",
       "      <td>10.0</td>\n",
       "      <td>12.0</td>\n",
       "      <td>10</td>\n",
       "      <td>1401/09</td>\n",
       "      <td>1401</td>\n",
       "      <td>9</td>\n",
       "    </tr>\n",
       "  </tbody>\n",
       "</table>\n",
       "</div>"
      ],
      "text/plain": [
       "   productcode                              ProductName  Production  \\\n",
       "0     22010001  ادویه پلوئی - (سلفون) - بسته نیم کیلویی        21.0   \n",
       "1     22010001  ادویه پلوئی - (سلفون) - بسته نیم کیلویی         1.0   \n",
       "2     22010001  ادویه پلوئی - (سلفون) - بسته نیم کیلویی         4.0   \n",
       "3     22010001  ادویه پلوئی - (سلفون) - بسته نیم کیلویی        12.0   \n",
       "4     22010001  ادویه پلوئی - (سلفون) - بسته نیم کیلویی        10.0   \n",
       "\n",
       "   Production_Predict  Sale Year_month  year  month  \n",
       "0                14.4    12    1401/05  1401      5  \n",
       "1                 1.2     1    1401/06  1401      6  \n",
       "2                 3.6     3    1401/07  1401      7  \n",
       "3                14.4    12    1401/08  1401      8  \n",
       "4                12.0    10    1401/09  1401      9  "
      ]
     },
     "execution_count": 10,
     "metadata": {},
     "output_type": "execute_result"
    }
   ],
   "source": [
    "cdf.head(5)"
   ]
  },
  {
   "cell_type": "code",
   "execution_count": 11,
   "id": "2b42b968-3ba8-4557-909b-439ee3fc56e2",
   "metadata": {},
   "outputs": [
    {
     "data": {
      "image/png": "[encoded data removed]",
      "text/plain": [
       "<Figure size 1200x800 with 6 Axes>"
      ]
     },
     "metadata": {},
     "output_type": "display_data"
    }
   ],
   "source": [
    "# Create a figure with 2 rows and 2 columns of subplots  \n",
    "fig, axes = plt.subplots(nrows=3, ncols=2, figsize=(12, 8))  \n",
    "\n",
    "# First subplot: Scatter plot of Production vs. Sale  \n",
    "axes[0, 0].scatter(cdf.Production, cdf.Sale, color='r')  \n",
    "axes[0, 0].set_xlabel('Production')  \n",
    "axes[0, 0].set_ylabel('Sale')  \n",
    "\n",
    "# Second subplot: Scatter plot of Month vs. Sale  \n",
    "axes[0, 1].scatter(cdf.month, cdf.Sale, color='b')  \n",
    "axes[0, 1].set_xlabel('Month')  \n",
    "axes[0, 1].set_ylabel('Sale')  \n",
    "\n",
    "# Third subplot: Scatter plot of year vs. Sale  \n",
    "axes[1, 0].scatter(cdf.year, cdf.Sale, color='b')  \n",
    "axes[1, 0].set_xlabel('Year')  \n",
    "axes[1, 0].set_ylabel('Sale')  \n",
    "\n",
    "# Forth subplot: Scatter plot of year vs. Production  \n",
    "axes[1, 1].scatter(cdf.year, cdf.Production, color='b')  \n",
    "axes[1, 1].set_xlabel('Year')  \n",
    "axes[1, 1].set_ylabel('Production')  \n",
    "\n",
    "# Five subplot: Scatter plot of Month vs. Production  \n",
    "axes[2, 0].scatter(cdf.month, cdf.Production, color='b')  \n",
    "axes[2, 0].set_xlabel('Month')  \n",
    "axes[2, 0].set_ylabel('Production')  \n",
    "\n",
    "\n",
    "# Adjust the spacing between subplots  \n",
    "plt.subplots_adjust(wspace=0.4, hspace=0.4)  \n",
    "\n",
    "# Display the figure  \n",
    "plt.show()"
   ]
  },
  {
   "cell_type": "code",
   "execution_count": 12,
   "id": "82c7103a-111a-49c0-a6fa-4f17878c6a36",
   "metadata": {},
   "outputs": [],
   "source": [
    "msk=np.random.rand(len(cdf))<0.8\n",
    "train_df=cdf[msk]\n",
    "test_df=cdf[~msk]"
   ]
  },
  {
   "cell_type": "code",
   "execution_count": 13,
   "id": "575e936d-4e1d-4e1a-aac7-ad1014a51053",
   "metadata": {},
   "outputs": [],
   "source": [
    "train_x=np.asanyarray(train_df.Production).reshape(-1, 1)  \n",
    "train_y=np.asanyarray(train_df.Sale).reshape(-1, 1)  \n",
    "#train_y = np.transpose(train_y) \n",
    "#############################\n",
    "test_x=np.asanyarray(test_df.Production).reshape(-1, 1)  \n",
    "test_y=np.asanyarray(test_df.Sale).reshape(-1, 1)  \n",
    "#test_y = np.transpose(test_y) "
   ]
  },
  {
   "cell_type": "code",
   "execution_count": 14,
   "id": "aa4f7257-6429-45db-b250-d8c1268ffc4c",
   "metadata": {},
   "outputs": [
    {
     "name": "stdout",
     "output_type": "stream",
     "text": [
      "[[ 1.0000e+00  2.1000e+01  4.4100e+02]\n",
      " [ 1.0000e+00  1.0000e+00  1.0000e+00]\n",
      " [ 1.0000e+00  4.0000e+00  1.6000e+01]\n",
      " ...\n",
      " [ 1.0000e+00 -1.3900e+02  1.9321e+04]\n",
      " [ 1.0000e+00 -1.6000e+02  2.5600e+04]\n",
      " [ 1.0000e+00 -1.4000e+01  1.9600e+02]]\n"
     ]
    }
   ],
   "source": [
    "poly=PolynomialFeatures(degree=2)\n",
    "train_x_poly=poly.fit_transform(train_x)\n",
    "print(train_x_poly)"
   ]
  },
  {
   "cell_type": "code",
   "execution_count": 15,
   "id": "a5843e27-3da5-4e40-be3d-fa9ccaaa85a0",
   "metadata": {},
   "outputs": [
    {
     "name": "stdout",
     "output_type": "stream",
     "text": [
      "(10293, 3)\n",
      "(10293, 1)\n"
     ]
    }
   ],
   "source": [
    "print(train_x_poly.shape)  \n",
    "print(train_y.shape)  "
   ]
  },
  {
   "cell_type": "code",
   "execution_count": 16,
   "id": "e7828517-79c7-4c1e-9002-3468e14936fa",
   "metadata": {},
   "outputs": [],
   "source": [
    "clf=linear_model.LinearRegression()\n",
    "train_y_=clf.fit(train_x_poly,train_y)"
   ]
  },
  {
   "cell_type": "code",
   "execution_count": 17,
   "id": "3a668920-0091-4914-9233-7c8ea3eabad6",
   "metadata": {},
   "outputs": [
    {
     "name": "stdout",
     "output_type": "stream",
     "text": [
      "The coefficient is :[[ 0.00000000e+00  7.58915126e-01 -2.48416931e-09]]\n",
      "The intercept is: [7964.2565699]\n"
     ]
    }
   ],
   "source": [
    "print(f'The coefficient is :{train_y_.coef_}')\n",
    "print(f'The intercept is: {train_y_.intercept_}')"
   ]
  },
  {
   "cell_type": "code",
   "execution_count": 47,
   "id": "ae8bfd32-f30f-4fcd-ab3b-7ad8fc07073d",
   "metadata": {
    "scrolled": true
   },
   "outputs": [
    {
     "name": "stderr",
     "output_type": "stream",
     "text": [
      "C:\\Users\\admin\\AppData\\Local\\Temp\\ipykernel_2408\\396914896.py:2: UserWarning: No data for colormapping provided via 'c'. Parameters 'cmap' will be ignored\n",
      "  scatter = plt.scatter(train_df['Production'], train_df['Sale'], cmap='viridis', alpha=0.6)\n"
     ]
    },
    {
     "data": {
      "image/png": "[encoded data removed]",
      "text/plain": [
       "<Figure size 640x480 with 1 Axes>"
      ]
     },
     "metadata": {},
     "output_type": "display_data"
    }
   ],
   "source": [
    "# Scatter plot  \n",
    "scatter = plt.scatter(train_df['Production'], train_df['Sale'], cmap='viridis', alpha=0.6)  \n",
    "\n",
    "# Line plot  \n",
    "xx = np.linspace(0, train_df['Production'].max(), 10)  \n",
    "yy = clf.coef_[0][0] + clf.coef_[0][1] * xx+   clf.coef_[0][2] * np.power( xx,2)+(0.2*xx)\n",
    "plt.plot(xx, yy, '-r')  \n",
    "\n",
    "# Add labels and title  \n",
    "plt.xlabel('Production')  \n",
    "plt.ylabel('Sale')  \n",
    "plt.title('Scatter Plot and Regression Line')  \n",
    "\n",
    "# Display the plot  \n",
    "plt.show()"
   ]
  },
  {
   "cell_type": "code",
   "execution_count": 20,
   "id": "edf3dfc6-455a-4172-ab56-eaf97477c437",
   "metadata": {},
   "outputs": [
    {
     "name": "stdout",
     "output_type": "stream",
     "text": [
      "Mean Absolute Error: 16114.221066470243\n",
      "MSE: 20385639584.59024\n",
      "The r2_score is: 0.8611329425972806\n"
     ]
    }
   ],
   "source": [
    "from sklearn.metrics import r2_score\n",
    "test_x_poly = poly.fit_transform(test_x)  \n",
    "test_y_ = clf.predict(test_x_poly)  \n",
    "print(f'Mean Absolute Error: {np.mean(np.abs(test_y_ - test_y))}')  \n",
    "print(f'MSE: {np.mean((test_y_ - test_y) ** 2)}')  \n",
    "print(f'The r2_score is: {r2_score(test_y, test_y_)}')"
   ]
  },
  {
   "cell_type": "markdown",
   "id": "d577e0ca-cd4d-497a-b435-c59f2dd5250c",
   "metadata": {},
   "source": [
    "# Final Result to discover \n",
    "# Relation between Sale VS Productiom:\n",
    "#### The analysis SHows:\n",
    "### The Equation is : production = a + b * sale + c * sale**2+(0.2*Sale)\n",
    "    - a=clf.coef_[0][0]=0\n",
    "    - b=clf.coef_[0][1]=7.58915126e-01=0.758915126\n",
    "    - c=clf.coef_[0][2]=-2.48416931e-09=0.0000000000248416931\n",
    "    - def predict_production(sale):  \n",
    "    return a + b * sale + c * sale**2+(0.2*Sale)"
   ]
  }
 ],
 "metadata": {
  "kernelspec": {
   "display_name": "Python 3 (ipykernel)",
   "language": "python",
   "name": "python3"
  },
  "language_info": {
   "codemirror_mode": {
    "name": "ipython",
    "version": 3
   },
   "file_extension": ".py",
   "mimetype": "text/x-python",
   "name": "python",
   "nbconvert_exporter": "python",
   "pygments_lexer": "ipython3",
   "version": "3.11.5"
  }
 },
 "nbformat": 4,
 "nbformat_minor": 5
}
