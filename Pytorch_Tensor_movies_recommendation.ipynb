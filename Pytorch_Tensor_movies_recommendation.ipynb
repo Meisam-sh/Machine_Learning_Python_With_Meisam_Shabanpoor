{
  "nbformat": 4,
  "nbformat_minor": 0,
  "metadata": {
    "colab": {
      "provenance": [],
      "authorship_tag": "ABX9TyMUNuYajPRwiRhT5FibyQhH",
      "include_colab_link": true
    },
    "kernelspec": {
      "name": "python3",
      "display_name": "Python 3"
    },
    "language_info": {
      "name": "python"
    }
  },
  "cells": [
    {
      "cell_type": "markdown",
      "metadata": {
        "id": "view-in-github",
        "colab_type": "text"
      },
      "source": [
        "<a href=\"https://colab.research.google.com/github/Meisam-sh/Machine_Learning_Python_With_Meisam_Shabanpoor/blob/main/Pytorch_Tensor_movies_recommendation.ipynb\" target=\"_parent\"><img src=\"https://colab.research.google.com/assets/colab-badge.svg\" alt=\"Open In Colab\"/></a>"
      ]
    },
    {
      "cell_type": "code",
      "execution_count": 1,
      "metadata": {
        "id": "t0kezWAJyKy4"
      },
      "outputs": [],
      "source": [
        "import torch\n",
        "import torch.nn as nn\n",
        "import numpy as np\n",
        "\n",
        "# فرض کنید داده‌های تعاملات کاربران و فیلم‌ها در این ماتریس قرار دارد\n",
        "user_item_matrix = np.array([[5, 3, 0, 1],\n",
        "                            [4, 0, 0, 1],\n",
        "                            [1, 1, 2, 5],\n",
        "                            [1, 0, 0, 4],\n",
        "                            [0, 1, 5, 4]])\n"
      ]
    },
    {
      "cell_type": "code",
      "source": [
        "\n",
        "# تبدیل ماتریس به PyTorch tensor\n",
        "user_item_tensor = torch.tensor(user_item_matrix, dtype=torch.float32)\n",
        "\n",
        "# تعریف مدل\n",
        "class RecommenderModel(nn.Module):\n",
        "    def __init__(self, num_users, num_items, embedding_size):\n",
        "        super(RecommenderModel, self).__init__()\n",
        "        self.user_embeddings = nn.Embedding(num_users, embedding_size)\n",
        "        self.item_embeddings = nn.Embedding(num_items, embedding_size)\n",
        "        self.fc = nn.Linear(embedding_size * 2, 1)\n",
        "\n",
        "    def forward(self, user_ids, item_ids):\n",
        "        user_emb = self.user_embeddings(user_ids)\n",
        "        item_emb = self.item_embeddings(item_ids)\n",
        "        concat = torch.cat([user_emb, item_emb], dim=1)\n",
        "        output = self.fc(concat)\n",
        "        return output.squeeze()\n",
        "\n",
        "# تعداد کاربران و آیتم‌ها\n",
        "num_users = user_item_tensor.shape[0]\n",
        "num_items = user_item_tensor.shape[1]\n",
        "\n",
        "# ایجاد مدل\n",
        "model = RecommenderModel(num_users, num_items, embedding_size=50)\n",
        "\n",
        "# تعریف تابع هزینه و بهینه‌ساز\n",
        "criterion = nn.MSELoss()\n",
        "optimizer = torch.optim.Adam(model.parameters(), lr=0.001)\n",
        "\n",
        "# آموزش مدل\n",
        "num_epochs = 100\n",
        "for epoch in range(num_epochs):\n",
        "    # محاسبه خروجی مدل برای همه کاربران و آیتم‌ها\n",
        "    outputs = model(torch.arange(num_users), torch.arange(num_items))\n",
        "\n",
        "    # محاسبه تابع هزینه و به‌روزرسانی پارامترهای مدل\n",
        "    loss = criterion(outputs, user_item_tensor.flatten())\n",
        "    optimizer.zero_grad()\n",
        "    loss.backward()\n",
        "    optimizer.step()\n",
        "\n",
        "    if (epoch+1) % 10 == 0:\n",
        "        print(f'Epoch [{epoch+1}/{num_epochs}], Loss: {loss.item():.4f}')\n",
        "\n",
        "# پیشنهاد آیتم‌ها برای کاربر با شناسه 2\n",
        "user_id = 2\n",
        "predicted_ratings = model(torch.tensor([user_id]), torch.arange(num_items))\n",
        "top_recommendations = torch.argsort(predicted_ratings, descending=True)\n",
        "print(f\"Top recommendations for user {user_id}: {top_recommendations.tolist()}\")"
      ],
      "metadata": {
        "id": "gJ8ElxrNyVcO"
      },
      "execution_count": null,
      "outputs": []
    }
  ]
}