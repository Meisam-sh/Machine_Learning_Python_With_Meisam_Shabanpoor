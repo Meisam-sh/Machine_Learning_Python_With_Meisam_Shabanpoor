{
  "nbformat": 4,
  "nbformat_minor": 0,
  "metadata": {
    "colab": {
      "provenance": [],
      "authorship_tag": "ABX9TyOqFIuO8/EOB9eZh07WNBU6",
      "include_colab_link": true
    },
    "kernelspec": {
      "name": "python3",
      "display_name": "Python 3"
    },
    "language_info": {
      "name": "python"
    }
  },
  "cells": [
    {
      "cell_type": "markdown",
      "metadata": {
        "id": "view-in-github",
        "colab_type": "text"
      },
      "source": [
        "<a href=\"https://colab.research.google.com/github/Meisam-sh/Machine_Learning_Python_With_Meisam_Shabanpoor/blob/main/Pytorch_Tensor_movies_recommendation.ipynb\" target=\"_parent\"><img src=\"https://colab.research.google.com/assets/colab-badge.svg\" alt=\"Open In Colab\"/></a>"
      ]
    },
    {
      "cell_type": "code",
      "execution_count": 1,
      "metadata": {
        "id": "t0kezWAJyKy4",
        "outputId": "8ffb9faa-e021-4b4f-b172-6b8aa88a155b",
        "colab": {
          "base_uri": "https://localhost:8080/"
        }
      },
      "outputs": [
        {
          "output_type": "execute_result",
          "data": {
            "text/plain": [
              "array([[5, 3, 0, 1],\n",
              "       [4, 0, 0, 1],\n",
              "       [1, 1, 2, 5],\n",
              "       [1, 0, 0, 4],\n",
              "       [0, 1, 5, 4]])"
            ]
          },
          "metadata": {},
          "execution_count": 1
        }
      ],
      "source": [
        "import torch\n",
        "import torch.nn as nn\n",
        "import numpy as np\n",
        "\n",
        "# فرض کنید داده‌های تعاملات کاربران و فیلم‌ها در این ماتریس قرار دارد\n",
        "user_item_matrix = np.array([[5, 3, 0, 1],\n",
        "                            [4, 0, 0, 1],\n",
        "                            [1, 1, 2, 5],\n",
        "                            [1, 0, 0, 4],\n",
        "                            [0, 1, 5, 4]])\n",
        "user_item_matrix"
      ]
    },
    {
      "cell_type": "code",
      "source": [
        "# تبدیل ماتریس به PyTorch tensor\n",
        "user_item_tensor = torch.tensor(user_item_matrix, dtype=torch.float32)\n",
        "user_item_tensor"
      ],
      "metadata": {
        "id": "0HUSS-GpPzXM",
        "outputId": "ccfd6563-25b0-4f49-ba37-f7034d8f2338",
        "colab": {
          "base_uri": "https://localhost:8080/"
        }
      },
      "execution_count": 3,
      "outputs": [
        {
          "output_type": "execute_result",
          "data": {
            "text/plain": [
              "tensor([[5., 3., 0., 1.],\n",
              "        [4., 0., 0., 1.],\n",
              "        [1., 1., 2., 5.],\n",
              "        [1., 0., 0., 4.],\n",
              "        [0., 1., 5., 4.]])"
            ]
          },
          "metadata": {},
          "execution_count": 3
        }
      ]
    },
    {
      "cell_type": "code",
      "source": [
        "# تعریف مدل\n",
        "class RecommenderModel(nn.Module):\n",
        "    def __init__(self, num_users, num_items, embedding_size):\n",
        "        super(RecommenderModel, self).__init__()\n",
        "        self.user_embeddings = nn.Embedding(num_users, embedding_size)\n",
        "        self.item_embeddings = nn.Embedding(num_items, embedding_size)\n",
        "        self.fc = nn.Linear(embedding_size * 2, 1)\n",
        "    def forward(self, user_ids, item_ids):\n",
        "        user_emb = self.user_embeddings(user_ids)\n",
        "        item_emb = self.item_embeddings(item_ids)\n",
        "        concat = torch.cat([user_emb, item_emb], dim=1)\n",
        "        output = self.fc(concat)\n",
        "        return output.squeeze()"
      ],
      "metadata": {
        "id": "nsRn2cRLQU-l"
      },
      "execution_count": 4,
      "outputs": []
    },
    {
      "cell_type": "code",
      "source": [
        "#Number os users and items- Infact shape(0) refers to rows and shape(1) refers to columns of user_item_tensor\n",
        "num_users = user_item_tensor.shape[0]\n",
        "num_items = user_item_tensor.shape[1]\n",
        "print(num_users,num_items)"
      ],
      "metadata": {
        "id": "72adF9vNQkTL",
        "outputId": "d587d58b-972c-4c72-fa7a-29f422f61e50",
        "colab": {
          "base_uri": "https://localhost:8080/"
        }
      },
      "execution_count": 7,
      "outputs": [
        {
          "output_type": "stream",
          "name": "stdout",
          "text": [
            "5 4\n"
          ]
        }
      ]
    },
    {
      "cell_type": "code",
      "source": [
        "\n",
        "# ایجاد مدل\n",
        "model = RecommenderModel(num_users, num_items, embedding_size=50)\n",
        "model"
      ],
      "metadata": {
        "id": "juigksRaSLms",
        "outputId": "a2be8e99-7a54-4b47-c789-19c37c72b986",
        "colab": {
          "base_uri": "https://localhost:8080/"
        }
      },
      "execution_count": 8,
      "outputs": [
        {
          "output_type": "execute_result",
          "data": {
            "text/plain": [
              "RecommenderModel(\n",
              "  (user_embeddings): Embedding(5, 50)\n",
              "  (item_embeddings): Embedding(4, 50)\n",
              "  (fc): Linear(in_features=100, out_features=1, bias=True)\n",
              ")"
            ]
          },
          "metadata": {},
          "execution_count": 8
        }
      ]
    },
    {
      "cell_type": "code",
      "source": [
        "# تعریف تابع هزینه و بهینه‌ساز\n",
        "criterion = nn.MSELoss()\n",
        "optimizer = torch.optim.Adam(model.parameters(), lr=0.001)\n",
        "\n",
        "# آموزش مدل\n",
        "num_epochs = 100\n",
        "for epoch in range(num_epochs):\n",
        "    # محاسبه خروجی مدل برای همه کاربران و آیتم‌ها\n",
        "    outputs = model(torch.arange(num_users), torch.arange(num_items))\n",
        "\n",
        "    # محاسبه تابع هزینه و به‌روزرسانی پارامترهای مدل\n",
        "    loss = criterion(outputs, user_item_tensor.flatten())\n",
        "    optimizer.zero_grad()\n",
        "    loss.backward()\n",
        "    optimizer.step()\n",
        "\n",
        "    if (epoch+1) % 10 == 0:\n",
        "        print(f'Epoch [{epoch+1}/{num_epochs}], Loss: {loss.item():.4f}')\n",
        "\n",
        "# پیشنهاد آیتم‌ها برای کاربر با شناسه 2\n",
        "user_id = 2\n",
        "predicted_ratings = model(torch.tensor([user_id]), torch.arange(num_items))\n",
        "top_recommendations = torch.argsort(predicted_ratings, descending=True)\n",
        "print(f\"Top recommendations for user {user_id}: {top_recommendations.tolist()}\")"
      ],
      "metadata": {
        "id": "gJ8ElxrNyVcO"
      },
      "execution_count": null,
      "outputs": []
    }
  ]
}